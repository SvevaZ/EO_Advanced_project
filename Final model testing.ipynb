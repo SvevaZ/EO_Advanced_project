{
 "cells": [
  {
   "cell_type": "code",
   "execution_count": null,
   "id": "b4048191",
   "metadata": {},
   "outputs": [],
   "source": [
    "import numpy as np\n",
    "import pandas as pd\n",
    "import geopandas as gpd\n",
    "import matplotlib.pyplot as plt\n",
    "import ee\n",
    "import joblib\n",
    "import geemap\n",
    "\n",
    "from sklearn.utils import shuffle\n",
    "from sklearn.metrics import confusion_matrix, ConfusionMatrixDisplay\n",
    "\n",
    "from shapely.geometry import Point, Polygon\n",
    "\n"
   ]
  },
  {
   "cell_type": "code",
   "execution_count": null,
   "id": "f7f45309",
   "metadata": {},
   "outputs": [],
   "source": [
    "# Authenticate and initialize the Earth Engine API\n",
    "ee.Authenticate()\n",
    "ee.Initialize(project='svevazanettieo1') #così apro il progetto esistente in GEE, non ne sto creando uno nuovo"
   ]
  },
  {
   "cell_type": "code",
   "execution_count": null,
   "id": "8fa4752b",
   "metadata": {},
   "outputs": [],
   "source": [
    "scaler = joblib.load(\"scaler.save\")\n",
    "clf = joblib.load(\"random_forest_model_train+val.pkl\")"
   ]
  },
  {
   "cell_type": "code",
   "execution_count": null,
   "id": "0dda1f98",
   "metadata": {},
   "outputs": [],
   "source": [
    "# Function to convert Earth Engine FeatureCollection to Pandas DataFrame, eliminating the random column\n",
    "def from_FeatureCollection_to_df(path):\n",
    "    points = ee.FeatureCollection(path)\n",
    "    points_ft = points.getInfo()['features']\n",
    "    points_df = pd.json_normalize(points_ft)\n",
    "    points_df = points_df.drop(columns=['properties.random'], errors='ignore')\n",
    "    return points_df\n",
    "\n",
    "testing_points_df_2018 = from_FeatureCollection_to_df('projects/svevazanettieo1/assets/Dubai/Dubai_testing_indexes')\n",
    "testing_points_df_2024 = from_FeatureCollection_to_df('projects/svevazanettieo1/assets/Dubai/Dubai_testing_indexes_2024')\n",
    "\n",
    "print('Testing set 2018:', testing_points_df_2018.shape)\n",
    "print('Testing set 2024:', testing_points_df_2024.shape)"
   ]
  },
  {
   "cell_type": "code",
   "execution_count": null,
   "id": "23289f62",
   "metadata": {},
   "outputs": [],
   "source": [
    "# Extract feature columns (e.g., 'properties.B1', 'properties.B2', etc.)\n",
    "feature_columns = [col for col in testing_points_df_2018.columns if col.startswith('properties.B') or col.startswith('properties.n')]\n",
    "feature_columns\n",
    "\n",
    "# Extract features and labels for testing\n",
    "X_test_2018 = testing_points_df_2018[feature_columns]\n",
    "y_test_2018 = testing_points_df_2018['properties.LC']\n",
    "\n",
    "X_test_2024 = testing_points_df_2024[feature_columns]\n",
    "y_test_2024 = testing_points_df_2024['properties.LC']"
   ]
  },
  {
   "cell_type": "code",
   "execution_count": null,
   "id": "dfe3174e",
   "metadata": {},
   "outputs": [],
   "source": [
    "X_test_2018 = scaler.transform(X_test_2018)\n",
    "X_test_2024 = scaler.transform(X_test_2024)"
   ]
  },
  {
   "cell_type": "markdown",
   "id": "7a47e741",
   "metadata": {},
   "source": [
    "# Testing 2018"
   ]
  },
  {
   "cell_type": "code",
   "execution_count": null,
   "id": "717d2e0d",
   "metadata": {},
   "outputs": [],
   "source": [
    "X_shuffled_test_2018, y_shuffled_test_2018, testing_points_df_2018 = shuffle(X_test_2018, y_test_2018, testing_points_df_2018, random_state=42)\n",
    "y_shuffled_test_2018 = np.argmax(y_shuffled_test_2018, axis=1)\n",
    "\n",
    "# Predicting using the model\n",
    "y_pred_test_2018 = clf.predict(X_shuffled_test_2018)  # Get predictions from the model"
   ]
  },
  {
   "cell_type": "code",
   "execution_count": null,
   "id": "98a3cbdb",
   "metadata": {},
   "outputs": [],
   "source": [
    "# Compute confusion matrix\n",
    "cm_2018 = confusion_matrix(y_shuffled_test_2018, y_pred_test_2018)\n",
    "\n",
    "# Plot\n",
    "fig, ax = plt.subplots(figsize=(8, 6)) \n",
    "disp = ConfusionMatrixDisplay(confusion_matrix=cm_2018, display_labels=['vegetation','water','soil','urban'])\n",
    "disp.plot(cmap=\"Blues\", values_format=\"d\", ax=ax, colorbar=False)  # use ax\n",
    "ax.set_title(\"Confusion Matrix\", fontsize=16)\n",
    "plt.tight_layout()\n",
    "plt.show()"
   ]
  },
  {
   "cell_type": "code",
   "execution_count": null,
   "id": "6161e123",
   "metadata": {},
   "outputs": [],
   "source": [
    "testing_points_df_2018['predicted'] = y_pred_test_2018\n",
    "\n",
    "def make_geometry(row):\n",
    "    if row['geometry.type'] == 'Point':\n",
    "        return Point(row['geometry.coordinates'])\n",
    "    elif row['geometry.type'] == 'Polygon':\n",
    "        return Polygon(row['geometry.coordinates'])\n",
    "    else:\n",
    "        return None  # o gestisci altri tipi se ci sono\n",
    "\n",
    "testing_points_df_2018['geometry'] = testing_points_df_2018.apply(make_geometry, axis=1)\n",
    "gdf_2018 = gpd.GeoDataFrame(testing_points_df_2018, geometry='geometry')\n",
    "gdf_2018.set_crs(epsg=4326, inplace=True)"
   ]
  },
  {
   "cell_type": "code",
   "execution_count": null,
   "id": "74c91f1e",
   "metadata": {},
   "outputs": [],
   "source": [
    "sentinel2018 = ee.Image('projects/svevazanettieo1/assets/Dubai/sentinel2018')\n",
    "vis_params = {\n",
    "    'bands': ['B4', 'B3', 'B2'],  # RGB\n",
    "    'min': 0,\n",
    "    'max': 0.3,\n",
    "}\n",
    "\n",
    "# Select only the necessary columns for visualization\n",
    "test_points_RF = geemap.geopandas_to_ee(gdf_2018[['predicted', 'geometry']])\n",
    "\n",
    "# Convert FeatureCollection to Image\n",
    "test_image = test_points_RF.reduceToImage(properties=['predicted'], reducer=ee.Reducer.first())\n",
    "\n",
    "# Increase point size using focal_max()\n",
    "test_image = test_image.focal_max(radius=10, units='meters')\n",
    "\n",
    "vis = {\n",
    "  'min': 0,\n",
    "  'max': 3,\n",
    "  'palette': ['00FF00', '00FFFF', 'FFFF00', 'FF0000'] \n",
    "}\n",
    "\n",
    "# AOI boundary\n",
    "AOI = ee.FeatureCollection('projects/svevazanettieo1/assets/Dubai/Area_of_interest_Dubai')\n",
    "\n",
    "# Create a map centered on AOI\n",
    "Map = geemap.Map(center=[25.276987, 55.296249], zoom=10)\n",
    "Map.addLayer(AOI, {'color': 'gray'}, 'AOI')\n",
    "Map.addLayer(sentinel2018, vis_params, 'Sentinel-2 2018')\n",
    "\n",
    "# Add the predictor layers\n",
    "Map.addLayer(test_image, vis,'Prediction')\n",
    "Map"
   ]
  },
  {
   "cell_type": "markdown",
   "id": "62bc97c9",
   "metadata": {},
   "source": [
    "# Testing 2024"
   ]
  },
  {
   "cell_type": "code",
   "execution_count": null,
   "id": "d6688676",
   "metadata": {},
   "outputs": [],
   "source": [
    "X_shuffled_test_2024, y_shuffled_test_2024, testing_points_df_2024 = shuffle(X_test_2024, y_test_2024, testing_points_df_2024, random_state=42)\n",
    "y_shuffled_test_2024 = np.argmax(y_shuffled_test_2024, axis=1)\n",
    "\n",
    "# Predicting using the model\n",
    "y_pred_test_2024 = clf.predict(X_shuffled_test_2024)  # Get predictions from the model"
   ]
  },
  {
   "cell_type": "code",
   "execution_count": null,
   "id": "2b356578",
   "metadata": {},
   "outputs": [],
   "source": [
    "# Compute confusion matrix\n",
    "cm_2024 = confusion_matrix(y_shuffled_test_2024, y_pred_test_2024)\n",
    "\n",
    "# Plot\n",
    "fig, ax = plt.subplots(figsize=(8, 6)) \n",
    "disp = ConfusionMatrixDisplay(confusion_matrix=cm_2024, display_labels=['vegetation','water','soil','urban'])\n",
    "disp.plot(cmap=\"Blues\", values_format=\"d\", ax=ax, colorbar=False)  # use ax\n",
    "ax.set_title(\"Confusion Matrix\", fontsize=16)\n",
    "plt.tight_layout()\n",
    "plt.show()"
   ]
  },
  {
   "cell_type": "code",
   "execution_count": null,
   "id": "a316b32a",
   "metadata": {},
   "outputs": [],
   "source": [
    "testing_points_df_2024['predicted'] = y_pred_test_2024\n",
    "\n",
    "testing_points_df_2024['geometry'] = testing_points_df_2024.apply(make_geometry, axis=1)\n",
    "gdf_2024 = gpd.GeoDataFrame(testing_points_df_2024, geometry='geometry')\n",
    "gdf_2024.set_crs(epsg=4326, inplace=True)"
   ]
  },
  {
   "cell_type": "code",
   "execution_count": null,
   "id": "1c2f3a2e",
   "metadata": {},
   "outputs": [],
   "source": [
    "# Select only the necessary columns for visualization\n",
    "test_points_RF = geemap.geopandas_to_ee(gdf_2024[['predicted', 'geometry']])\n",
    "\n",
    "# Convert FeatureCollection to Image\n",
    "test_image = test_points_RF.reduceToImage(properties=['predicted'], reducer=ee.Reducer.first())\n",
    "\n",
    "# Increase point size using focal_max()\n",
    "test_image = test_image.focal_max(radius=10, units='meters')\n",
    "\n",
    "# Create a map centered on AOI\n",
    "Map = geemap.Map(center=[25.276987, 55.296249], zoom=10)\n",
    "Map.addLayer(AOI, {'color': 'gray'}, 'AOI')\n",
    "Map.addLayer(sentinel2018, vis_params, 'Sentinel-2 2018')\n",
    "\n",
    "# Add the predictor layers\n",
    "Map.addLayer(test_image, vis,'Prediction')\n",
    "Map"
   ]
  }
 ],
 "metadata": {
  "language_info": {
   "name": "python"
  }
 },
 "nbformat": 4,
 "nbformat_minor": 5
}
