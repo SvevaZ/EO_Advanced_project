{
 "cells": [
  {
   "cell_type": "code",
   "execution_count": null,
   "id": "129545b8",
   "metadata": {},
   "outputs": [],
   "source": [
    "import matplotlib.pyplot as plt\n",
    "import ee\n",
    "import joblib\n",
    "import geemap\n",
    "from matplotlib.colors import ListedColormap"
   ]
  },
  {
   "cell_type": "code",
   "execution_count": null,
   "id": "af1292ca",
   "metadata": {},
   "outputs": [],
   "source": [
    "# Authenticate and initialize the Earth Engine API\n",
    "ee.Authenticate()\n",
    "ee.Initialize(project='svevazanettieo1') #così apro il progetto esistente in GEE, non ne sto creando uno nuovo"
   ]
  },
  {
   "cell_type": "code",
   "execution_count": null,
   "id": "b458e6da",
   "metadata": {},
   "outputs": [],
   "source": [
    "# Load model \n",
    "clf = joblib.load(\"random_forest_model_train+val.pkl\")"
   ]
  },
  {
   "cell_type": "code",
   "execution_count": null,
   "id": "31e6bc24",
   "metadata": {},
   "outputs": [],
   "source": [
    "sentinel2018 = ee.Image('projects/svevazanettieo1/assets/Dubai/sentinel2018')\n",
    "sentinel2020 = ee.Image('projects/svevazanettieo1/assets/Dubai/sentinel2020')\n",
    "sentinel2022 = ee.Image('projects/svevazanettieo1/assets/Dubai/sentinel2022')\n",
    "sentinel2024 = ee.Image('projects/svevazanettieo1/assets/Dubai/sentinel2024')\n",
    "\n",
    "AOI = ee.FeatureCollection('projects/svevazanettieo1/assets/Dubai/Area_of_interest_Dubai')"
   ]
  },
  {
   "cell_type": "code",
   "execution_count": null,
   "id": "b0e10abd",
   "metadata": {},
   "outputs": [],
   "source": [
    "# Convert the FeatureCollection to a GeoDataFrame\n",
    "# Sample pixels as a FeatureCollection\n",
    "sample2018 = sentinel2018.sample(\n",
    "    region=AOI,\n",
    "    scale=10,\n",
    "    numPixels=1000000,\n",
    "    geometries=True\n",
    ")\n",
    "\n",
    "gdf2018 = geemap.ee_to_gdf(sample2018)\n",
    "\n",
    "print(gdf2018.head())"
   ]
  },
  {
   "cell_type": "code",
   "execution_count": null,
   "id": "8add321c",
   "metadata": {},
   "outputs": [],
   "source": [
    "sample2020 = sentinel2020.sample(\n",
    "    region=AOI,\n",
    "    scale=10,\n",
    "    numPixels=1000000,\n",
    "    geometries=True\n",
    ")\n",
    "\n",
    "gdf2020 = geemap.ee_to_gdf(sample2020)\n",
    "\n",
    "print(gdf2020.head())"
   ]
  },
  {
   "cell_type": "code",
   "execution_count": null,
   "id": "ed7a59e8",
   "metadata": {},
   "outputs": [],
   "source": [
    "sample2022 = sentinel2022.sample(\n",
    "    region=AOI,\n",
    "    scale=10,\n",
    "    numPixels=1000000,\n",
    "    geometries=True\n",
    ")\n",
    "\n",
    "gdf2022 = geemap.ee_to_gdf(sample2022)\n",
    "\n",
    "print(gdf2022.head())"
   ]
  },
  {
   "cell_type": "code",
   "execution_count": null,
   "id": "73ef3cba",
   "metadata": {},
   "outputs": [],
   "source": [
    "sample2024 = sentinel2024.sample(\n",
    "    region=AOI,\n",
    "    scale=10,\n",
    "    numPixels=1000000,\n",
    "    geometries=True\n",
    ")\n",
    "\n",
    "gdf2024 = geemap.ee_to_gdf(sample2024)\n",
    "\n",
    "print(gdf2024.head())"
   ]
  },
  {
   "cell_type": "code",
   "execution_count": null,
   "id": "d7930d93",
   "metadata": {},
   "outputs": [],
   "source": [
    "gdf2018.to_file(\"points_2018.geojson\", driver=\"GeoJSON\")\n",
    "gdf2020.to_file(\"points_2020.geojson\", driver=\"GeoJSON\")\n",
    "gdf2022.to_file(\"points_2022.geojson\", driver=\"GeoJSON\")\n",
    "gdf2024.to_file(\"points_2024.geojson\", driver=\"GeoJSON\")"
   ]
  },
  {
   "cell_type": "code",
   "execution_count": null,
   "id": "a5feb15f",
   "metadata": {},
   "outputs": [],
   "source": [
    "def preprocess(gdf):\n",
    "    gdf.columns = [col.replace('B', 'properties.B') for col in gdf.columns]\n",
    "    gdf.columns = [col.replace('n', 'properties.n') for col in gdf.columns]\n",
    "    feature_columns = [col for col in gdf.columns if col.startswith('properties.B') or col.startswith('properties.n')]\n",
    "    whole_image = gdf[feature_columns]\n",
    "    return whole_image"
   ]
  },
  {
   "cell_type": "code",
   "execution_count": null,
   "id": "684f03ec",
   "metadata": {},
   "outputs": [],
   "source": [
    "image2018 = preprocess(gdf2018)\n",
    "image2020 = preprocess(gdf2020)\n",
    "image2022 = preprocess(gdf2022)\n",
    "image2024 = preprocess(gdf2024)"
   ]
  },
  {
   "cell_type": "code",
   "execution_count": null,
   "id": "6aa2ac6c",
   "metadata": {},
   "outputs": [],
   "source": [
    "scaler = joblib.load(\"scaler.save\")\n",
    "\n",
    "image2018 = scaler.transform(image2018)\n",
    "image2020 = scaler.transform(image2020)\n",
    "image2022 = scaler.transform(image2022)\n",
    "image2024 = scaler.transform(image2024)"
   ]
  },
  {
   "cell_type": "code",
   "execution_count": null,
   "id": "848885eb",
   "metadata": {},
   "outputs": [],
   "source": [
    "# Modello precedentemente allenato\n",
    "y_pred_2018 = clf.predict(image2018)\n",
    "gdf2018['predicted_class'] = y_pred_2018\n",
    "\n",
    "y_pred_2020 = clf.predict(image2020)\n",
    "gdf2020['predicted_class'] = y_pred_2020\n",
    "\n",
    "y_pred_2022 = clf.predict(image2022)\n",
    "gdf2022['predicted_class'] = y_pred_2022\n",
    "\n",
    "y_pred_2024 = clf.predict(image2024)\n",
    "gdf2024['predicted_class'] = y_pred_2024\n"
   ]
  },
  {
   "cell_type": "code",
   "execution_count": null,
   "id": "04b2775b",
   "metadata": {},
   "outputs": [],
   "source": [
    "\n",
    "\n",
    "# plot con colormap discreta\n",
    "ax = gdf.plot(column='predicted_class', cmap=cmap, legend=True, categorical=True)\n",
    "ax.set_axis_off()\n",
    "plt.show()"
   ]
  },
  {
   "cell_type": "code",
   "execution_count": null,
   "id": "744a86f1",
   "metadata": {},
   "outputs": [],
   "source": [
    "# definisco la lista di colori nell'ordine delle classi\n",
    "colors = ['green', 'cyan', 'yellow', 'red']  \n",
    "\n",
    "# creo la colormap discreta\n",
    "cmap = ListedColormap(colors)\n",
    "\n",
    "fig, axes = plt.subplots(2, 2, figsize=(10, 10))  # griglia 2x2\n",
    "axes = axes.flatten()  # trasformo in lista per scorrere facilmente\n",
    "\n",
    "title = [\"2018\", \"2020\", \"2022\", \"2024\"]\n",
    "gdf=[gdf2018, gdf2020, gdf2022, gdf2024]\n",
    "\n",
    "for i in range(len(title)):\n",
    "    gdf[i].plot(\n",
    "        column='predicted_class',\n",
    "        cmap=cmap,\n",
    "        legend=True,\n",
    "        categorical=True,\n",
    "        ax=axes[i]\n",
    "    )\n",
    "    axes[i].set_title(title[i])\n",
    "    axes[i].set_axis_off()\n",
    "\n",
    "plt.tight_layout()\n",
    "plt.show()\n"
   ]
  }
 ],
 "metadata": {
  "language_info": {
   "name": "python"
  }
 },
 "nbformat": 4,
 "nbformat_minor": 5
}
