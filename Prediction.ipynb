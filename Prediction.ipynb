{
 "cells": [
  {
   "cell_type": "code",
   "execution_count": 10,
   "id": "129545b8",
   "metadata": {},
   "outputs": [
    {
     "data": {
      "text/html": [
       "\n",
       "            <style>\n",
       "                .geemap-dark {\n",
       "                    --jp-widgets-color: white;\n",
       "                    --jp-widgets-label-color: white;\n",
       "                    --jp-ui-font-color1: white;\n",
       "                    --jp-layout-color2: #454545;\n",
       "                    background-color: #383838;\n",
       "                }\n",
       "\n",
       "                .geemap-dark .jupyter-button {\n",
       "                    --jp-layout-color3: #383838;\n",
       "                }\n",
       "\n",
       "                .geemap-colab {\n",
       "                    background-color: var(--colab-primary-surface-color, white);\n",
       "                }\n",
       "\n",
       "                .geemap-colab .jupyter-button {\n",
       "                    --jp-layout-color3: var(--colab-primary-surface-color, white);\n",
       "                }\n",
       "            </style>\n",
       "            "
      ],
      "text/plain": [
       "<IPython.core.display.HTML object>"
      ]
     },
     "metadata": {},
     "output_type": "display_data"
    }
   ],
   "source": [
    "import matplotlib.pyplot as plt\n",
    "import ee\n",
    "import joblib\n",
    "import geemap\n",
    "from matplotlib.colors import ListedColormap\n",
    "import geemap, geopandas as gpd"
   ]
  },
  {
   "cell_type": "code",
   "execution_count": 2,
   "id": "af1292ca",
   "metadata": {},
   "outputs": [
    {
     "data": {
      "text/html": [
       "\n",
       "            <style>\n",
       "                .geemap-dark {\n",
       "                    --jp-widgets-color: white;\n",
       "                    --jp-widgets-label-color: white;\n",
       "                    --jp-ui-font-color1: white;\n",
       "                    --jp-layout-color2: #454545;\n",
       "                    background-color: #383838;\n",
       "                }\n",
       "\n",
       "                .geemap-dark .jupyter-button {\n",
       "                    --jp-layout-color3: #383838;\n",
       "                }\n",
       "\n",
       "                .geemap-colab {\n",
       "                    background-color: var(--colab-primary-surface-color, white);\n",
       "                }\n",
       "\n",
       "                .geemap-colab .jupyter-button {\n",
       "                    --jp-layout-color3: var(--colab-primary-surface-color, white);\n",
       "                }\n",
       "            </style>\n",
       "            "
      ],
      "text/plain": [
       "<IPython.core.display.HTML object>"
      ]
     },
     "metadata": {},
     "output_type": "display_data"
    }
   ],
   "source": [
    "# Authenticate and initialize the Earth Engine API\n",
    "ee.Authenticate()\n",
    "ee.Initialize(project='svevazanettieo1') #così apro il progetto esistente in GEE, non ne sto creando uno nuovo"
   ]
  },
  {
   "cell_type": "code",
   "execution_count": null,
   "id": "b458e6da",
   "metadata": {},
   "outputs": [],
   "source": [
    "# Load model \n",
    "clf = joblib.load(\"random_forest_model_train+val.pkl\")"
   ]
  },
  {
   "cell_type": "code",
   "execution_count": 3,
   "id": "31e6bc24",
   "metadata": {},
   "outputs": [
    {
     "data": {
      "text/html": [
       "\n",
       "            <style>\n",
       "                .geemap-dark {\n",
       "                    --jp-widgets-color: white;\n",
       "                    --jp-widgets-label-color: white;\n",
       "                    --jp-ui-font-color1: white;\n",
       "                    --jp-layout-color2: #454545;\n",
       "                    background-color: #383838;\n",
       "                }\n",
       "\n",
       "                .geemap-dark .jupyter-button {\n",
       "                    --jp-layout-color3: #383838;\n",
       "                }\n",
       "\n",
       "                .geemap-colab {\n",
       "                    background-color: var(--colab-primary-surface-color, white);\n",
       "                }\n",
       "\n",
       "                .geemap-colab .jupyter-button {\n",
       "                    --jp-layout-color3: var(--colab-primary-surface-color, white);\n",
       "                }\n",
       "            </style>\n",
       "            "
      ],
      "text/plain": [
       "<IPython.core.display.HTML object>"
      ]
     },
     "metadata": {},
     "output_type": "display_data"
    }
   ],
   "source": [
    "sentinel2018 = ee.Image('projects/svevazanettieo1/assets/Dubai/sentinel2018')\n",
    "sentinel2020 = ee.Image('projects/svevazanettieo1/assets/Dubai/sentinel2020')\n",
    "sentinel2022 = ee.Image('projects/svevazanettieo1/assets/Dubai/sentinel2022')\n",
    "sentinel2024 = ee.Image('projects/svevazanettieo1/assets/Dubai/sentinel2024')\n",
    "\n",
    "AOI = ee.FeatureCollection('projects/svevazanettieo1/assets/Dubai/Area_of_interest_Dubai')"
   ]
  },
  {
   "cell_type": "code",
   "execution_count": 19,
   "id": "7037182c",
   "metadata": {},
   "outputs": [
    {
     "data": {
      "text/html": [
       "\n",
       "            <style>\n",
       "                .geemap-dark {\n",
       "                    --jp-widgets-color: white;\n",
       "                    --jp-widgets-label-color: white;\n",
       "                    --jp-ui-font-color1: white;\n",
       "                    --jp-layout-color2: #454545;\n",
       "                    background-color: #383838;\n",
       "                }\n",
       "\n",
       "                .geemap-dark .jupyter-button {\n",
       "                    --jp-layout-color3: #383838;\n",
       "                }\n",
       "\n",
       "                .geemap-colab {\n",
       "                    background-color: var(--colab-primary-surface-color, white);\n",
       "                }\n",
       "\n",
       "                .geemap-colab .jupyter-button {\n",
       "                    --jp-layout-color3: var(--colab-primary-surface-color, white);\n",
       "                }\n",
       "            </style>\n",
       "            "
      ],
      "text/plain": [
       "<IPython.core.display.HTML object>"
      ]
     },
     "metadata": {},
     "output_type": "display_data"
    }
   ],
   "source": [
    "# Read with GeoPandas\n",
    "gdf2018 = gpd.read_file(\"samples2018.geojson\")\n",
    "gdf2020 = gpd.read_file(\"samples2020.geojson\")\n",
    "gdf2022 = gpd.read_file(\"samples2022.geojson\")\n",
    "gdf2024 = gpd.read_file(\"samples2024.geojson\")"
   ]
  },
  {
   "cell_type": "code",
   "execution_count": null,
   "id": "b084a850",
   "metadata": {},
   "outputs": [
    {
     "data": {
      "text/html": [
       "\n",
       "            <style>\n",
       "                .geemap-dark {\n",
       "                    --jp-widgets-color: white;\n",
       "                    --jp-widgets-label-color: white;\n",
       "                    --jp-ui-font-color1: white;\n",
       "                    --jp-layout-color2: #454545;\n",
       "                    background-color: #383838;\n",
       "                }\n",
       "\n",
       "                .geemap-dark .jupyter-button {\n",
       "                    --jp-layout-color3: #383838;\n",
       "                }\n",
       "\n",
       "                .geemap-colab {\n",
       "                    background-color: var(--colab-primary-surface-color, white);\n",
       "                }\n",
       "\n",
       "                .geemap-colab .jupyter-button {\n",
       "                    --jp-layout-color3: var(--colab-primary-surface-color, white);\n",
       "                }\n",
       "            </style>\n",
       "            "
      ],
      "text/plain": [
       "<IPython.core.display.HTML object>"
      ]
     },
     "metadata": {},
     "output_type": "display_data"
    },
    {
     "name": "stdout",
     "output_type": "stream",
     "text": [
      "Shape 2018 (870468, 11)\n",
      "Shape 2020 (870468, 11)\n",
      "Shape 2022 (870468, 11)\n",
      "Shape 2024 (870468, 11)\n",
      "  id      B11      B12      B2      B3       B4      B8      ndbi      ndvi  \\\n",
      "0  0  0.60190  0.54590  0.1921  0.2813  0.38580  0.4638  0.131048  0.088780   \n",
      "1  1  0.57955  0.52235  0.2078  0.2932  0.39425  0.4728  0.104250  0.091241   \n",
      "2  2  0.57955  0.52235  0.2065  0.2911  0.39320  0.4658  0.109187  0.088507   \n",
      "3  3  0.57955  0.52235  0.2065  0.2911  0.39320  0.4658  0.109187  0.088507   \n",
      "4  4  0.57400  0.51545  0.1958  0.2792  0.38280  0.4630  0.108968  0.094393   \n",
      "\n",
      "       ndwi                   geometry  \n",
      "0 -0.242733  POINT (55.60477 25.22159)  \n",
      "1 -0.228513  POINT (55.60486 25.22159)  \n",
      "2 -0.232004  POINT (55.60495 25.22159)  \n",
      "3 -0.232004  POINT (55.60504 25.22159)  \n",
      "4 -0.245828  POINT (55.60513 25.22159)  \n"
     ]
    }
   ],
   "source": [
    "print('Shape 2018', gdf2018.shape)\n",
    "print('Shape 2020', gdf2020.shape)\n",
    "print('Shape 2022', gdf2022.shape)\n",
    "print('Shape 2024', gdf2024.shape)"
   ]
  },
  {
   "cell_type": "code",
   "execution_count": 22,
   "id": "a5feb15f",
   "metadata": {},
   "outputs": [
    {
     "data": {
      "text/html": [
       "\n",
       "            <style>\n",
       "                .geemap-dark {\n",
       "                    --jp-widgets-color: white;\n",
       "                    --jp-widgets-label-color: white;\n",
       "                    --jp-ui-font-color1: white;\n",
       "                    --jp-layout-color2: #454545;\n",
       "                    background-color: #383838;\n",
       "                }\n",
       "\n",
       "                .geemap-dark .jupyter-button {\n",
       "                    --jp-layout-color3: #383838;\n",
       "                }\n",
       "\n",
       "                .geemap-colab {\n",
       "                    background-color: var(--colab-primary-surface-color, white);\n",
       "                }\n",
       "\n",
       "                .geemap-colab .jupyter-button {\n",
       "                    --jp-layout-color3: var(--colab-primary-surface-color, white);\n",
       "                }\n",
       "            </style>\n",
       "            "
      ],
      "text/plain": [
       "<IPython.core.display.HTML object>"
      ]
     },
     "metadata": {},
     "output_type": "display_data"
    }
   ],
   "source": [
    "def preprocess(gdf):\n",
    "    gdf.columns = [col.replace('B', 'properties.B') for col in gdf.columns]\n",
    "    gdf.columns = [col.replace('n', 'properties.n') for col in gdf.columns]\n",
    "    feature_columns = [col for col in gdf.columns if col.startswith('properties.B') or col.startswith('properties.n')]\n",
    "    whole_image = gdf[feature_columns]\n",
    "    return whole_image"
   ]
  },
  {
   "cell_type": "code",
   "execution_count": 23,
   "id": "684f03ec",
   "metadata": {},
   "outputs": [
    {
     "data": {
      "text/html": [
       "\n",
       "            <style>\n",
       "                .geemap-dark {\n",
       "                    --jp-widgets-color: white;\n",
       "                    --jp-widgets-label-color: white;\n",
       "                    --jp-ui-font-color1: white;\n",
       "                    --jp-layout-color2: #454545;\n",
       "                    background-color: #383838;\n",
       "                }\n",
       "\n",
       "                .geemap-dark .jupyter-button {\n",
       "                    --jp-layout-color3: #383838;\n",
       "                }\n",
       "\n",
       "                .geemap-colab {\n",
       "                    background-color: var(--colab-primary-surface-color, white);\n",
       "                }\n",
       "\n",
       "                .geemap-colab .jupyter-button {\n",
       "                    --jp-layout-color3: var(--colab-primary-surface-color, white);\n",
       "                }\n",
       "            </style>\n",
       "            "
      ],
      "text/plain": [
       "<IPython.core.display.HTML object>"
      ]
     },
     "metadata": {},
     "output_type": "display_data"
    }
   ],
   "source": [
    "image2018 = preprocess(gdf2018)\n",
    "image2020 = preprocess(gdf2020)\n",
    "image2022 = preprocess(gdf2022)\n",
    "image2024 = preprocess(gdf2024)"
   ]
  },
  {
   "cell_type": "code",
   "execution_count": null,
   "id": "6aa2ac6c",
   "metadata": {},
   "outputs": [],
   "source": [
    "scaler = joblib.load(\"scaler.save\")\n",
    "\n",
    "image2018 = scaler.transform(image2018)\n",
    "image2020 = scaler.transform(image2020)\n",
    "image2022 = scaler.transform(image2022)\n",
    "image2024 = scaler.transform(image2024)"
   ]
  },
  {
   "cell_type": "code",
   "execution_count": null,
   "id": "848885eb",
   "metadata": {},
   "outputs": [],
   "source": [
    "y_pred_2018 = clf.predict(image2018)\n",
    "gdf2018['predicted_class'] = y_pred_2018\n",
    "\n",
    "y_pred_2020 = clf.predict(image2020)\n",
    "gdf2020['predicted_class'] = y_pred_2020\n",
    "\n",
    "y_pred_2022 = clf.predict(image2022)\n",
    "gdf2022['predicted_class'] = y_pred_2022\n",
    "\n",
    "y_pred_2024 = clf.predict(image2024)\n",
    "gdf2024['predicted_class'] = y_pred_2024\n"
   ]
  },
  {
   "cell_type": "code",
   "execution_count": null,
   "id": "744a86f1",
   "metadata": {},
   "outputs": [],
   "source": [
    "# definisco la lista di colori nell'ordine delle classi\n",
    "colors = ['green', 'cyan', 'yellow', 'red']  \n",
    "\n",
    "# creo la colormap discreta\n",
    "cmap = ListedColormap(colors)\n",
    "\n",
    "fig, axes = plt.subplots(2, 2, figsize=(10, 10))  # griglia 2x2\n",
    "axes = axes.flatten()  # trasformo in lista per scorrere facilmente\n",
    "\n",
    "title = [\"2018\", \"2020\", \"2022\", \"2024\"]\n",
    "gdf=[gdf2018, gdf2020, gdf2022, gdf2024]\n",
    "\n",
    "for i in range(len(title)):\n",
    "    gdf[i].plot(\n",
    "        column='predicted_class',\n",
    "        cmap=cmap,\n",
    "        legend=True,\n",
    "        categorical=True,\n",
    "        ax=axes[i]\n",
    "    )\n",
    "    axes[i].set_title(title[i])\n",
    "    axes[i].set_axis_off()\n",
    "\n",
    "plt.tight_layout()\n",
    "plt.show()\n"
   ]
  }
 ],
 "metadata": {
  "kernelspec": {
   "display_name": "Earth_Obs",
   "language": "python",
   "name": "python3"
  },
  "language_info": {
   "codemirror_mode": {
    "name": "ipython",
    "version": 3
   },
   "file_extension": ".py",
   "mimetype": "text/x-python",
   "name": "python",
   "nbconvert_exporter": "python",
   "pygments_lexer": "ipython3",
   "version": "3.12.3"
  }
 },
 "nbformat": 4,
 "nbformat_minor": 5
}
